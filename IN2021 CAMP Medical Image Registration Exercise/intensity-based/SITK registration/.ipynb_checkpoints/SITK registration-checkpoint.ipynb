{
 "cells": [
  {
   "cell_type": "markdown",
   "metadata": {},
   "source": [
    "## Intensity based registration - SITK version\n",
    "\n",
    "As the previous one, the goal of this exercise is to register two images only using their intensity values.\n",
    "\n",
    "In this case, we will use the images of two lung CTs of the same patients taken at two different time points.\n",
    "\n",
    "We will perform this registration using the SimpleITK library, an open-source multi-dimensional image analysis tool (https://simpleitk.org), which includes many useful functions to make our life easier while registering images."
   ]
  },
  {
   "cell_type": "code",
   "execution_count": 1,
   "metadata": {},
   "outputs": [],
   "source": [
    "import os\n",
    "import glob\n",
    "import time\n",
    "import numpy as np\n",
    "import SimpleITK as sitk\n",
    "import matplotlib.pyplot as plt"
   ]
  },
  {
   "cell_type": "markdown",
   "metadata": {},
   "source": [
    "First of all we need to write the registration function and some utilities:"
   ]
  },
  {
   "cell_type": "code",
   "execution_count": 2,
   "metadata": {},
   "outputs": [],
   "source": [
    "def deformable_registration(fixed_slice, moving_slice, settings):\n",
    "    \n",
    "    mesh_factor = settings[\"mesh_size\"]\n",
    "    sampling_percentage = settings[\"sampling_percentage\"]\n",
    "    learning_rate = settings[\"learning_rate\"]\n",
    "    start = time.time()\n",
    "    \n",
    "    # Define the mesh size\n",
    "    transform_mesh_size = [mesh_factor] * moving_slice.GetDimension()\n",
    "        \n",
    "    # Initialize the registration method\n",
    "    registration_method = sitk.ImageRegistrationMethod()\n",
    "    \n",
    "    # Define the metric\n",
    "    registration_method.SetMetricAsMeanSquares()\n",
    "    registration_method.SetMetricSamplingStrategy(registration_method.RANDOM)\n",
    "    registration_method.SetMetricSamplingPercentage(sampling_percentage)\n",
    "    \n",
    "    # Define the optimizer\n",
    "    registration_method.SetOptimizerAsGradientDescent(learningRate=learning_rate, numberOfIterations=100, convergenceMinimumValue=1e-5, convergenceWindowSize=10)\n",
    "    \n",
    "    # Define the initial transform\n",
    "    bspline_transform = sitk.BSplineTransformInitializer(fixed_slice, transform_mesh_size)\n",
    "    registration_method.SetInitialTransform(bspline_transform, True)\n",
    "    \n",
    "    # Define the interpolator\n",
    "    registration_method.SetInterpolator(sitk.sitkLinear)\n",
    "    \n",
    "    # Add auxiliary commands\n",
    "    registration_method.AddCommand(sitk.sitkStartEvent, initialize_plot)\n",
    "    registration_method.AddCommand(sitk.sitkEndEvent, visualize_plot)\n",
    "    registration_method.AddCommand(sitk.sitkIterationEvent, lambda: fetch_metric(registration_method))\n",
    "    \n",
    "    # Execute the registration\n",
    "    final_transform = registration_method.Execute(fixed_slice, moving_slice)\n",
    "    end = time.time()\n",
    "    \n",
    "    # Apply the transformation on the moving slice\n",
    "    registered_slice_sitk = sitk.Resample(moving_slice, fixed_slice, final_transform, sitk.sitkLinear, -1024, moving_slice.GetPixelIDValue())\n",
    "\n",
    "    # Check the reason optimization terminated.\n",
    "    print('Optimizer\\'s stopping condition, {0}'.format(registration_method.GetOptimizerStopConditionDescription()))\n",
    "    error = registration_method.GetMetricValue()\n",
    "    elapsed_time = end-start\n",
    "    print(\"Error:\", error)\n",
    "    print(\"Elapsed time:\", elapsed_time, \"seconds\")\n",
    "    \n",
    "    info = {\"Error\": error, \"Time\": elapsed_time}\n",
    "    \n",
    "    return registered_slice_sitk, info"
   ]
  },
  {
   "cell_type": "code",
   "execution_count": 3,
   "metadata": {},
   "outputs": [],
   "source": [
    "# DEFORMABLE REGISTRATION - UTILS\n",
    "\n",
    "# Callback invoked when the StartEvent happens, sets up new data and new figure.\n",
    "def initialize_plot():\n",
    "    global metric_values, fig\n",
    "    fig = plt.figure(figsize=(8,4))\n",
    "    metric_values = []\n",
    "\n",
    "# Callback invoked when the EndEvent happens, display figure.\n",
    "def visualize_plot():\n",
    "    global metric_values, ax, fig\n",
    "    \n",
    "    plt.plot(range(len(metric_values)), metric_values, 'r')\n",
    "    plt.xlabel('Iteration Number',fontsize=12)\n",
    "    plt.ylabel('Metric Value',fontsize=12)\n",
    "    plt.show()\n",
    "    \n",
    "    metric_values = []\n",
    "\n",
    "# Callback invoked when the IterationEvent happens, update our data    \n",
    "def fetch_metric(registration_method):\n",
    "    global metric_values\n",
    "    metric_values.append(registration_method.GetMetricValue())  \n",
    "    # print(\"\\tDeformable registration - loss:\", registration_method.GetMetricValue(), flush=True)"
   ]
  },
  {
   "cell_type": "markdown",
   "metadata": {},
   "source": [
    "Let's define a function that nicely plots our results:"
   ]
  },
  {
   "cell_type": "code",
   "execution_count": 4,
   "metadata": {},
   "outputs": [],
   "source": [
    "def plot_results(slice_1, slice_2, slice_registered):\n",
    "    slice_1 = sitk.GetArrayFromImage(slice_1)\n",
    "    slice_2 = sitk.GetArrayFromImage(slice_2)\n",
    "    slice_registered = sitk.GetArrayFromImage(slice_registered)\n",
    "    \n",
    "    fig, ax = plt.subplots(nrows=1, ncols=5, figsize=(3*5, 3*1));\n",
    "    ax[0].imshow(slice_1, cmap=\"gray\")\n",
    "    ax[1].imshow(slice_2, cmap=\"gray\")\n",
    "    ax[2].imshow(slice_1, cmap=\"gray\", alpha=0.6);\n",
    "    ax[2].imshow(slice_2, cmap=\"jet\", alpha=0.4);\n",
    "    ax[3].imshow(slice_registered, cmap=\"gray\")\n",
    "    ax[4].imshow(slice_1, cmap=\"gray\", alpha=0.6);\n",
    "    ax[4].imshow(slice_registered, cmap=\"jet\", alpha=0.4);\n",
    "      \n",
    "    for a in ax:\n",
    "        a.set_xticks([]);\n",
    "        a.set_yticks([]);\n",
    "    \n",
    "    ax[0].set_title(\"Moving slice\");\n",
    "    ax[1].set_title(\"Fixed slice\");\n",
    "    ax[2].set_title(\"Before registration\");\n",
    "    ax[3].set_title(\"Registered slice\");\n",
    "    ax[4].set_title(\"After registration\");"
   ]
  },
  {
   "cell_type": "markdown",
   "metadata": {},
   "source": [
    "At the end of the exercise we will do a numeric and visual evaluation using the following two functions:"
   ]
  },
  {
   "cell_type": "code",
   "execution_count": 5,
   "metadata": {},
   "outputs": [],
   "source": [
    "def numeric_evaluation(info):\n",
    "    x = list()\n",
    "    y_error = list()\n",
    "    y_time = list()\n",
    "\n",
    "    for k in info.keys():\n",
    "        x.append(k)\n",
    "        y_error.append(info[k][\"Error\"])\n",
    "        y_time.append(info[k][\"Time\"])\n",
    "    \n",
    "    fig, ax = plt.subplots(nrows=1, ncols=2, figsize=(16,4));\n",
    "    ax[0].bar(range(len(y_error)), y_error);\n",
    "    ax[0].set_xticks(range(len(y_error)));\n",
    "    ax[0].set_xticklabels(x, rotation=-70);\n",
    "    ax[0].set_title(\"Error at the final iteration\", fontweight=\"bold\");\n",
    "    ax[0].set_ylabel(\"Metric value\");\n",
    "    \n",
    "    ax[1].bar(range(len(y_time)), y_time);\n",
    "    ax[1].set_xticks(range(len(y_error)));\n",
    "    ax[1].set_xticklabels(x, rotation=-70);\n",
    "    ax[1].set_ylabel(\"Seconds\");\n",
    "    ax[1].set_title(\"Computation time\", fontweight=\"bold\");\n",
    "\n",
    "def visual_evaluation(slices):\n",
    "    N = len(slices.keys())\n",
    "    n_cols = 4\n",
    "    n_rows = int(np.ceil(N/n_cols))\n",
    "    moving_slice = sitk.GetArrayFromImage(sitk.ReadImage(\"/Users/Francesca/Downloads/CAMP1_Tutorial_WS21/moving_slice.nii.gz\"));\n",
    "\n",
    "    fig, ax = plt.subplots(nrows=n_rows, ncols=n_cols, figsize=(3*n_cols, 3*n_rows));\n",
    "    plt.tight_layout()\n",
    "    c = 0\n",
    "    r = 0\n",
    "    for i in range(N):\n",
    "        s = sitk.GetArrayFromImage(slices[list(slices.keys())[i]]);\n",
    "        ax[r,c].imshow(s, cmap=\"gray\");\n",
    "        ax[r,c].set_title(list(slices.keys())[i]);\n",
    "        ax[r,c].set_xticks([]);\n",
    "        ax[r,c].set_yticks([]);\n",
    "        if not c == n_cols-1:   \n",
    "            c += 1\n",
    "        else:    \n",
    "            c = 0\n",
    "            if not r == n_rows-1:   \n",
    "                r += 1\n",
    "            else:        \n",
    "                r = 0\n",
    "    ax[n_rows-1,n_cols-1].imshow(moving_slice, cmap=\"gray\");\n",
    "    ax[n_rows-1,n_cols-1].set_title(\"Original (moving slice)\", fontweight=\"bold\");\n",
    "    ax[n_rows-1,n_cols-1].set_xticks([]);\n",
    "    ax[n_rows-1,n_cols-1].set_yticks([]);\n",
    "    plt.suptitle(\"REGISTERED SLICE\", fontweight=\"bold\", y=1.03);\n",
    "    \n",
    "\n",
    "    fixed_slice = sitk.GetArrayFromImage(sitk.ReadImage(\"/Users/Francesca/Downloads/CAMP1_Tutorial_WS21/fixed_slice.nii.gz\"));\n",
    "    N = len(slices.keys())\n",
    "    n_cols = 4\n",
    "    n_rows = int(np.ceil(N/n_cols))\n",
    "\n",
    "    fig, ax = plt.subplots(nrows=n_rows, ncols=n_cols, figsize=(3*n_cols, 3*n_rows));\n",
    "    plt.tight_layout()\n",
    "    c = 0\n",
    "    r = 0\n",
    "    for i in range(N):\n",
    "        s = sitk.GetArrayFromImage(slices[list(slices.keys())[i]]);\n",
    "        ax[r,c].imshow(s, cmap=\"gray\", alpha=0.6);\n",
    "        ax[r,c].imshow(fixed_slice, cmap=\"jet\", alpha=0.4);\n",
    "        ax[r,c].set_title(list(slices.keys())[i]);\n",
    "        ax[r,c].set_xticks([]);\n",
    "        ax[r,c].set_yticks([]);\n",
    "        if not c == n_cols-1:   \n",
    "            c += 1\n",
    "        else:    \n",
    "            c = 0\n",
    "            if not r == n_rows-1:   \n",
    "                r += 1\n",
    "            else:        \n",
    "                r = 0\n",
    "    ax[n_rows-1,n_cols-1].imshow(moving_slice, cmap=\"gray\", alpha=0.6);\n",
    "    ax[n_rows-1,n_cols-1].imshow(fixed_slice, cmap=\"jet\", alpha=0.4);\n",
    "    ax[n_rows-1,n_cols-1].set_title(\"Before registration\", fontweight=\"bold\");\n",
    "    ax[n_rows-1,n_cols-1].set_xticks([]);\n",
    "    ax[n_rows-1,n_cols-1].set_yticks([]);\n",
    "    plt.suptitle(\"OVERLAY\", fontweight=\"bold\", y=1.03);"
   ]
  },
  {
   "cell_type": "markdown",
   "metadata": {},
   "source": [
    "### Let's start! \n",
    "Now we can load the images that we want to work with.\n",
    "fixed_slice will be the reference one, we will try to register moving_slice onto it."
   ]
  },
  {
   "cell_type": "code",
   "execution_count": 11,
   "metadata": {},
   "outputs": [
    {
     "name": "stdout",
     "output_type": "stream",
     "text": [
      "/Users/Francesca/Downloads/CAMP1_Tutorial_WS21/Moodle\n"
     ]
    }
   ],
   "source": [
    "moving_slice = sitk.ReadImage(\"./data/moving_slice.nii.gz\")\n",
    "fixed_slice = sitk.ReadImage(\"./data/fixed_slice.nii.gz\")"
   ]
  },
  {
   "cell_type": "markdown",
   "metadata": {},
   "source": [
    "We will need also two dictionaries to save information for the final evaluation of the results"
   ]
  },
  {
   "cell_type": "code",
   "execution_count": 13,
   "metadata": {},
   "outputs": [],
   "source": [
    "info = dict()\n",
    "registered_slices = dict()"
   ]
  },
  {
   "cell_type": "markdown",
   "metadata": {},
   "source": [
    "The following cells will register the two images changing the parameters as specified in the settings."
   ]
  },
  {
   "cell_type": "markdown",
   "metadata": {},
   "source": [
    "#### Baseline registration"
   ]
  },
  {
   "cell_type": "code",
   "execution_count": 14,
   "metadata": {},
   "outputs": [
    {
     "data": {
      "image/png": "[encoded data removed]",
      "text/plain": [
       "<Figure size 576x288 with 1 Axes>"
      ]
     },
     "metadata": {
      "needs_background": "light"
     },
     "output_type": "display_data"
    },
    {
     "name": "stdout",
     "output_type": "stream",
     "text": [
      "Optimizer's stopping condition, GradientDescentOptimizerv4Template: Convergence checker passed at iteration 25.\n",
      "Error: 69037.15999441704\n",
      "Elapsed time: 2.689177989959717 seconds\n"
     ]
    }
   ],
   "source": [
    "settings = {\"mesh_size\": 8, \"sampling_percentage\": 0.1, \"learning_rate\": 0.1}\n",
    "registered_slice, current_info = deformable_registration(fixed_slice, moving_slice, settings)\n",
    "info[\"initial\"] = current_info\n",
    "registered_slices[\"initial\"] = registered_slice"
   ]
  },
  {
   "cell_type": "markdown",
   "metadata": {},
   "source": [
    "#### Registration 1 (smaller sampling_percentage)"
   ]
  },
  {
   "cell_type": "code",
   "execution_count": 15,
   "metadata": {},
   "outputs": [
    {
     "data": {
      "image/png": "[encoded data removed]",
      "text/plain": [
       "<Figure size 576x288 with 1 Axes>"
      ]
     },
     "metadata": {
      "needs_background": "light"
     },
     "output_type": "display_data"
    },
    {
     "name": "stdout",
     "output_type": "stream",
     "text": [
      "Optimizer's stopping condition, GradientDescentOptimizerv4Template: Convergence checker passed at iteration 18.\n",
      "Error: 73951.30850909979\n",
      "Elapsed time: 0.4123718738555908 seconds\n"
     ]
    }
   ],
   "source": [
    "settings = {\"mesh_size\": 8, \"sampling_percentage\": 0.01, \"learning_rate\": 0.1}\n",
    "registered_slice, current_info = deformable_registration(fixed_slice, moving_slice, settings)\n",
    "info[\"sampling_percentage = 0.01\"] = current_info\n",
    "registered_slices[\"sampling_percentage = 0.01\"] = registered_slice"
   ]
  },
  {
   "cell_type": "markdown",
   "metadata": {},
   "source": [
    "#### Registration 2 (higher sampling_percentage)"
   ]
  },
  {
   "cell_type": "code",
   "execution_count": 16,
   "metadata": {},
   "outputs": [
    {
     "data": {
      "image/png": "[encoded data removed]",
      "text/plain": [
       "<Figure size 576x288 with 1 Axes>"
      ]
     },
     "metadata": {
      "needs_background": "light"
     },
     "output_type": "display_data"
    },
    {
     "name": "stdout",
     "output_type": "stream",
     "text": [
      "Optimizer's stopping condition, GradientDescentOptimizerv4Template: Convergence checker passed at iteration 35.\n",
      "Error: 71518.27000278505\n",
      "Elapsed time: 10.383438110351562 seconds\n"
     ]
    }
   ],
   "source": [
    "settings = {\"mesh_size\": 8, \"sampling_percentage\": 0.5, \"learning_rate\": 0.1}\n",
    "registered_slice, current_info = deformable_registration(fixed_slice, moving_slice, settings)\n",
    "info[\"sampling_percentage = 0.5\"] = current_info\n",
    "registered_slices[\"sampling_percentage = 0.5\"] = registered_slice"
   ]
  },
  {
   "cell_type": "markdown",
   "metadata": {},
   "source": [
    "#### Registration 3 (smaller learning rate)"
   ]
  },
  {
   "cell_type": "code",
   "execution_count": null,
   "metadata": {},
   "outputs": [],
   "source": [
    "settings = {\"mesh_size\": 8, \"sampling_percentage\": 0.1, \"learning_rate\": 0.01}\n",
    "registered_slice, current_info = deformable_registration(fixed_slice, moving_slice, settings)\n",
    "info[\"learning_rate = 0.01\"] = current_info\n",
    "registered_slices[\"learning_rate = 0.01\"] = registered_slice"
   ]
  },
  {
   "cell_type": "markdown",
   "metadata": {},
   "source": [
    "#### Registration 4 (higher learning rate)"
   ]
  },
  {
   "cell_type": "code",
   "execution_count": null,
   "metadata": {},
   "outputs": [],
   "source": [
    "settings = {\"mesh_size\": 8, \"sampling_percentage\": 0.1, \"learning_rate\": 1}\n",
    "registered_slice, current_info = deformable_registration(fixed_slice, moving_slice, settings)\n",
    "info[\"learning_rate = 1\"] = current_info\n",
    "registered_slices[\"learning_rate = 1\"] = registered_slice"
   ]
  },
  {
   "cell_type": "markdown",
   "metadata": {},
   "source": [
    "#### Registration 5 (higher mesh_size)"
   ]
  },
  {
   "cell_type": "code",
   "execution_count": null,
   "metadata": {},
   "outputs": [],
   "source": [
    "settings = {\"mesh_size\": 16, \"sampling_percentage\": 0.1, \"learning_rate\": 0.1}\n",
    "registered_slice, current_info = deformable_registration(fixed_slice, moving_slice, settings)\n",
    "info[\"mesh_size = 16\"] = current_info\n",
    "registered_slices[\"mesh_size = 16\"] = registered_slice"
   ]
  },
  {
   "cell_type": "markdown",
   "metadata": {},
   "source": [
    "#### Registration 6 (smaller mesh_size)"
   ]
  },
  {
   "cell_type": "code",
   "execution_count": null,
   "metadata": {},
   "outputs": [],
   "source": [
    "settings = {\"mesh_size\": 4, \"sampling_percentage\": 0.1, \"learning_rate\": 0.1}\n",
    "registered_slice, current_info = deformable_registration(fixed_slice, moving_slice, settings)\n",
    "info[\"mesh_size = 4\"] = current_info\n",
    "registered_slices[\"mesh_size = 4\"] = registered_slice"
   ]
  },
  {
   "cell_type": "markdown",
   "metadata": {},
   "source": [
    "### Visual evaluation"
   ]
  },
  {
   "cell_type": "code",
   "execution_count": null,
   "metadata": {},
   "outputs": [],
   "source": [
    "visual_evaluation(registered_slices)"
   ]
  },
  {
   "cell_type": "markdown",
   "metadata": {},
   "source": [
    "### Numeric evaluation"
   ]
  },
  {
   "cell_type": "code",
   "execution_count": null,
   "metadata": {},
   "outputs": [],
   "source": [
    "numeric_evaluation(info)"
   ]
  },
  {
   "cell_type": "markdown",
   "metadata": {},
   "source": [
    "### Find the optimal registration settings\n",
    "Learning from the previous examples how do we choose the parameters to get nice results? Don't forget to take into consideration both the final error and the computation time!"
   ]
  },
  {
   "cell_type": "code",
   "execution_count": null,
   "metadata": {},
   "outputs": [],
   "source": [
    "settings = {\"mesh_size\": 0, \"sampling_percentage\": 0, \"learning_rate\": 0}\n",
    "registered_slice, current_info = deformable_registration(fixed_slice, moving_slice, settings)\n",
    "plot_results(fixed_slice, moving_slice, registered_slice)"
   ]
  }
 ],
 "metadata": {
  "kernelspec": {
   "display_name": "Python 3",
   "language": "python",
   "name": "python3"
  },
  "language_info": {
   "codemirror_mode": {
    "name": "ipython",
    "version": 3
   },
   "file_extension": ".py",
   "mimetype": "text/x-python",
   "name": "python",
   "nbconvert_exporter": "python",
   "pygments_lexer": "ipython3",
   "version": "3.6.10"
  }
 },
 "nbformat": 4,
 "nbformat_minor": 4
}
